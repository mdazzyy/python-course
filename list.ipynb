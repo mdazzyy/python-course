{
 "cells": [
  {
   "cell_type": "code",
   "execution_count": 1,
   "id": "8bbc8190",
   "metadata": {},
   "outputs": [
    {
     "name": "stdout",
     "output_type": "stream",
     "text": [
      "Original List: ['Kia', 'BMW', 'Volswagen', 'Audi', 'Scorpio', 'Safari']\n",
      "Changed list: ['Kia', 'BMW', 'Ford', 'Audi', 'Scorpio', 'Safari']\n"
     ]
    }
   ],
   "source": [
    "cars = ['Kia', 'BMW', 'Volswagen', 'Audi', 'Scorpio', 'Safari']\n",
    "print(f\"Original List: {cars}\")\n",
    "# change item\n",
    "cars[2] = 'Ford'\n",
    "print(f\"Changed list: {cars}\")"
   ]
  },
  {
   "cell_type": "code",
   "execution_count": 2,
   "id": "283b77dd",
   "metadata": {},
   "outputs": [
    {
     "name": "stdout",
     "output_type": "stream",
     "text": [
      "Original List: ['Kia', 'BMW', 'Volswagen', 'Audi', 'Scorpio', 'Safari']\n",
      "After adding item: ['Kia', 'BMW', 'Volswagen', 'Audi', 'Scorpio', 'Safari', 'Hyundai']\n"
     ]
    }
   ],
   "source": [
    "cars = ['Kia', 'BMW', 'Volswagen', 'Audi', 'Scorpio', 'Safari']\n",
    "print(f\"Original List: {cars}\")\n",
    "\n",
    "# add item to a list, append() method\n",
    "cars.append('Hyundai')\n",
    "print(f\"After adding item: {cars}\")"
   ]
  },
  {
   "cell_type": "code",
   "execution_count": 3,
   "id": "0018b14b",
   "metadata": {},
   "outputs": [
    {
     "name": "stdout",
     "output_type": "stream",
     "text": [
      "Original List: ['Kia', 'BMW', 'Volswagen', 'Audi', 'Scorpio', 'Safari']\n",
      "After adding item: ['Kia', 'BMW', 'Volswagen', 'Maruti', 'Audi', 'Scorpio', 'Safari']\n"
     ]
    }
   ],
   "source": [
    "cars = ['Kia', 'BMW', 'Volswagen', 'Audi', 'Scorpio', 'Safari']\n",
    "print(f\"Original List: {cars}\")\n",
    "\n",
    "# add item to a list, insert() method\n",
    "cars.insert(3, 'Maruti')\n",
    "print(f\"After adding item: {cars}\")"
   ]
  },
  {
   "cell_type": "code",
   "execution_count": 4,
   "id": "5d566d59",
   "metadata": {},
   "outputs": [
    {
     "name": "stdout",
     "output_type": "stream",
     "text": [
      "Original List: ['Kia', 'BMW', 'Volswagen', 'Audi', 'Scorpio', 'Safari']\n",
      "After removing: ['Kia', 'BMW', 'Audi', 'Scorpio', 'Safari']\n"
     ]
    }
   ],
   "source": [
    "cars = ['Kia', 'BMW', 'Volswagen', 'Audi', 'Scorpio', 'Safari']\n",
    "print(f\"Original List: {cars}\")\n",
    "\n",
    "# remove item, remove() method removes the specified item\n",
    "cars.remove('Volswagen')\n",
    "print(f\"After removing: {cars}\")"
   ]
  },
  {
   "cell_type": "code",
   "execution_count": 7,
   "id": "47b42a7e",
   "metadata": {},
   "outputs": [
    {
     "name": "stdout",
     "output_type": "stream",
     "text": [
      "Original List: ['Kia', 'BMW', 'Volswagen', 'Audi', 'Scorpio', 'Safari']\n",
      "After removing: ['BMW', 'Volswagen', 'Audi', 'Scorpio', 'Safari']\n"
     ]
    },
    {
     "ename": "NameError",
     "evalue": "name 'cars' is not defined",
     "output_type": "error",
     "traceback": [
      "\u001b[0;31m---------------------------------------------------------------------------\u001b[0m",
      "\u001b[0;31mNameError\u001b[0m                                 Traceback (most recent call last)",
      "Cell \u001b[0;32mIn [7], line 9\u001b[0m\n\u001b[1;32m      6\u001b[0m \u001b[38;5;28mprint\u001b[39m(\u001b[38;5;124mf\u001b[39m\u001b[38;5;124m\"\u001b[39m\u001b[38;5;124mAfter removing: \u001b[39m\u001b[38;5;132;01m{\u001b[39;00mcars\u001b[38;5;132;01m}\u001b[39;00m\u001b[38;5;124m\"\u001b[39m)\n\u001b[1;32m      8\u001b[0m \u001b[38;5;28;01mdel\u001b[39;00m cars\n\u001b[0;32m----> 9\u001b[0m \u001b[38;5;28mprint\u001b[39m(\u001b[38;5;124mf\u001b[39m\u001b[38;5;124m\"\u001b[39m\u001b[38;5;124mAfter removing: \u001b[39m\u001b[38;5;132;01m{\u001b[39;00mcars\u001b[38;5;132;01m}\u001b[39;00m\u001b[38;5;124m\"\u001b[39m)\n",
      "\u001b[0;31mNameError\u001b[0m: name 'cars' is not defined"
     ]
    }
   ],
   "source": [
    "cars = ['Kia', 'BMW', 'Volswagen', 'Audi', 'Scorpio', 'Safari']\n",
    "print(f\"Original List: {cars}\")\n",
    "\n",
    "# remove item with del keyword\n",
    "del cars[0]\n",
    "print(f\"After removing: {cars}\")\n",
    "\n",
    "# del keyword also delete list completely\n",
    "del cars\n",
    "print(f\"After removing: {cars}\")"
   ]
  },
  {
   "cell_type": "code",
   "execution_count": 12,
   "id": "86a7c43c",
   "metadata": {},
   "outputs": [
    {
     "name": "stdout",
     "output_type": "stream",
     "text": [
      "Original List: ['Kia', 'BMW', 'Volswagen', 'Audi', 'Scorpio', 'Safari']\n",
      "After sorting: ['Audi', 'BMW', 'Kia', 'Safari', 'Scorpio', 'Volswagen']\n",
      "Reverse sorting with sort() method: ['Volswagen', 'Scorpio', 'Safari', 'Kia', 'BMW', 'Audi']\n"
     ]
    }
   ],
   "source": [
    "cars = ['Kia', 'BMW', 'Volswagen', 'Audi', 'Scorpio', 'Safari']\n",
    "print(f\"Original List: {cars}\")\n",
    "\n",
    "# Sorting list\n",
    "cars.sort()\n",
    "print(f\"After sorting: {cars}\")\n",
    "\n",
    "cars.sort(reverse=True)\n",
    "print(f\"Reverse sorting with sort() method: {cars}\")"
   ]
  },
  {
   "cell_type": "code",
   "execution_count": 13,
   "id": "ede52b67",
   "metadata": {},
   "outputs": [
    {
     "name": "stdout",
     "output_type": "stream",
     "text": [
      "Original List: ['Kia', 'BMW', 'Volswagen', 'Audi', 'Scorpio', 'Safari']\n",
      "Reverse sorting with reverse() method: ['Safari', 'Scorpio', 'Audi', 'Volswagen', 'BMW', 'Kia']\n"
     ]
    }
   ],
   "source": [
    "cars = ['Kia', 'BMW', 'Volswagen', 'Audi', 'Scorpio', 'Safari']\n",
    "print(f\"Original List: {cars}\")\n",
    "\n",
    "# reverse sorting with reverse() method\n",
    "cars.reverse()\n",
    "print(f\"Reverse sorting with reverse() method: {cars}\")"
   ]
  },
  {
   "cell_type": "code",
   "execution_count": 14,
   "id": "9ca751a1",
   "metadata": {},
   "outputs": [
    {
     "name": "stdout",
     "output_type": "stream",
     "text": [
      "Original List: ['Kia', 'BMW', 'Volswagen', 'Audi', 'Scorpio', 'Safari']\n",
      "['BMW', 'Volswagen', 'Audi', 'Scorpio']\n",
      "['BMW', 'Audi']\n",
      "['BMW', 'Audi', 'Safari']\n",
      "['Kia', 'Volswagen', 'Scorpio']\n",
      "['Kia', 'Volswagen', 'Scorpio']\n"
     ]
    }
   ],
   "source": [
    "cars = ['Kia', 'BMW', 'Volswagen', 'Audi', 'Scorpio', 'Safari']\n",
    "print(f\"Original List: {cars}\")\n",
    "\n",
    "# Slicing\n",
    "print(cars[1:5])\n",
    "print(cars[1:5:2])\n",
    "print(cars[1::2])\n",
    "print(cars[::2])\n",
    "print(cars[:6:2])"
   ]
  },
  {
   "cell_type": "code",
   "execution_count": null,
   "id": "3e5e50e9",
   "metadata": {},
   "outputs": [],
   "source": []
  }
 ],
 "metadata": {
  "kernelspec": {
   "display_name": "venv",
   "language": "python",
   "name": "venv"
  },
  "language_info": {
   "codemirror_mode": {
    "name": "ipython",
    "version": 3
   },
   "file_extension": ".py",
   "mimetype": "text/x-python",
   "name": "python",
   "nbconvert_exporter": "python",
   "pygments_lexer": "ipython3",
   "version": "3.10.8"
  }
 },
 "nbformat": 4,
 "nbformat_minor": 5
}
